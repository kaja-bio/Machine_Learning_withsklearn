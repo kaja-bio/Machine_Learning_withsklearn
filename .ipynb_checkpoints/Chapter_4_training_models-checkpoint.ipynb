{
 "cells": [
  {
   "cell_type": "code",
   "execution_count": 1,
   "id": "c698e949-fe9e-4e12-808a-6e6be5cee119",
   "metadata": {},
   "outputs": [],
   "source": [
    "import numpy as np\n",
    "X = 2 * np.random.rand(100, 1)\n",
    "y = 4 + 3 * X + np.random.randn(100, 1) #random.randn returns a sample from the standard normal distribution\n",
    "#randomly generates a linear dataset we can try calculating normal equation for"
   ]
  },
  {
   "cell_type": "code",
   "execution_count": 3,
   "id": "5d3d3f09-16a9-4d0e-b428-c001303b59a0",
   "metadata": {},
   "outputs": [
    {
     "data": {
      "text/plain": [
       "array([[3.94194717],\n",
       "       [3.0466218 ]])"
      ]
     },
     "execution_count": 3,
     "metadata": {},
     "output_type": "execute_result"
    }
   ],
   "source": [
    "#we will use numpy to calculate matrix inverse of X to get the parameters which minimize the MSE\n",
    "X_b = np.c_[np.ones((100, 1)), X] # add x0 = 1 to each instance - this is so as to include the intercept term\n",
    "#the intercept term β0 is the mean value of the response variable (y) when x = 0\n",
    "theta_best = np.linalg.inv(X_b.T.dot(X_b)).dot(X_b.T).dot(y) #inv() is a function of np.linalg computing inverse of matrix, dot computes dot product\n",
    "#thus we calculate theta_best, or the best approximation of the parameter vector - we want values close to 4 and 3 bcs the \n",
    "#actual equation used to generate the dataset is y = 4 + 3x1 + Gaussian noise\n",
    "theta_best"
   ]
  },
  {
   "cell_type": "code",
   "execution_count": 4,
   "id": "c4052447-5675-449e-af7d-e41dc6b0203d",
   "metadata": {},
   "outputs": [
    {
     "data": {
      "text/plain": [
       "array([[ 3.94194717],\n",
       "       [10.03519077]])"
      ]
     },
     "execution_count": 4,
     "metadata": {},
     "output_type": "execute_result"
    }
   ],
   "source": [
    "#we can then use the calculated values of theta-best to make predictions:\n",
    "X_new = np.array([[0], [2]])\n",
    "X_new_b = np.c_[np.ones((2, 1)), X_new] # add x0 = 1 to each instance\n",
    "y_predict = X_new_b.dot(theta_best)\n",
    "y_predict #gives us the predicted y values for when X is 0 and for when X is 2"
   ]
  },
  {
   "cell_type": "code",
   "execution_count": 7,
   "id": "2d1d2d3a-d213-4da6-9066-a5fd77c74d01",
   "metadata": {},
   "outputs": [
    {
     "data": {
      "image/png": "[encoded data removed]",
      "text/plain": [
       "<Figure size 640x480 with 1 Axes>"
      ]
     },
     "metadata": {},
     "output_type": "display_data"
    }
   ],
   "source": [
    "#we can plot these predictions:\n",
    "import matplotlib.pyplot as plt\n",
    "plt.plot(X_new, y_predict, \"r-\")\n",
    "plt.plot(X, y, \"b.\")\n",
    "plt.axis([0, 2, 0, 15])\n",
    "plt.show()"
   ]
  },
  {
   "cell_type": "code",
   "execution_count": 8,
   "id": "ca5c65fa-b3a2-4d24-a808-37fe23de1cdc",
   "metadata": {},
   "outputs": [
    {
     "data": {
      "text/plain": [
       "array([[ 3.94194717],\n",
       "       [10.03519077]])"
      ]
     },
     "execution_count": 8,
     "metadata": {},
     "output_type": "execute_result"
    }
   ],
   "source": [
    "from sklearn.linear_model import LinearRegression\n",
    "lin_reg = LinearRegression() #linear regression class is based on scipy.linal.lstsq() (least sqaures function)\n",
    "lin_reg.fit(X, y)\n",
    "lin_reg.intercept_, lin_reg.coef_\n",
    "lin_reg.predict(X_new)"
   ]
  },
  {
   "cell_type": "code",
   "execution_count": 9,
   "id": "57966446-2d26-4982-9cf5-07e5845649ba",
   "metadata": {},
   "outputs": [
    {
     "data": {
      "text/plain": [
       "array([[3.94194717],\n",
       "       [3.0466218 ]])"
      ]
     },
     "execution_count": 9,
     "metadata": {},
     "output_type": "execute_result"
    }
   ],
   "source": [
    "theta_best_svd, residuals, rank, s = np.linalg.lstsq(X_b, y, rcond=1e-6) \n",
    "#linalg.lstsq takes in (a,b, rcond) where a = a coefficient matrix, b = dependent variable values, rcond is cut-off ratio for small singular values of a\n",
    "#thus it takes in a matrix of the X values with the new values added, takes in the dependent variable values, spits out the best values\n",
    "#for theta that minimize the residual sum of squares, along with the sum of the residuals (should be close to 0), the rank of X_b\n",
    "theta_best_svd"
   ]
  },
  {
   "cell_type": "code",
   "execution_count": null,
   "id": "843931db-8a8f-455f-9bed-1bb8a46af757",
   "metadata": {},
   "outputs": [],
   "source": []
  }
 ],
 "metadata": {
  "kernelspec": {
   "display_name": "Python 3 (ipykernel)",
   "language": "python",
   "name": "python3"
  },
  "language_info": {
   "codemirror_mode": {
    "name": "ipython",
    "version": 3
   },
   "file_extension": ".py",
   "mimetype": "text/x-python",
   "name": "python",
   "nbconvert_exporter": "python",
   "pygments_lexer": "ipython3",
   "version": "3.11.4"
  }
 },
 "nbformat": 4,
 "nbformat_minor": 5
}

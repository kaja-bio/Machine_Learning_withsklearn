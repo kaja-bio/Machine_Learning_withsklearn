{
 "cells": [
  {
   "cell_type": "code",
   "execution_count": 2,
   "id": "89e3386f-e406-48bc-9567-2fb80caf95e4",
   "metadata": {},
   "outputs": [],
   "source": [
    "import pandas as pd\n",
    "import os\n",
    "\n",
    "def read_files_from_folder(folder_path, label):\n",
    "    data = []\n",
    "    for filename in os.listdir(folder_path):\n",
    "        file_path = os.path.join(folder_path, filename)\n",
    "        if os.path.isfile(file_path):  # Check if it's a file\n",
    "            with open(file_path, 'r', encoding='latin1') as file:\n",
    "                content = file.read()\n",
    "                data.append({'text': content, 'label': label})\n",
    "    return pd.DataFrame(data)\n",
    "\n",
    "spam_folder = './spam'\n",
    "ham_folder = './easy_ham'\n",
    "\n",
    "# Read the files and create DataFrames\n",
    "spam_df = read_files_from_folder(spam_folder, 'spam')\n",
    "ham_df = read_files_from_folder(ham_folder, 'ham')"
   ]
  },
  {
   "cell_type": "code",
   "execution_count": 3,
   "id": "ea5a572a-c4cd-4574-b7c7-9498917a260b",
   "metadata": {},
   "outputs": [
    {
     "data": {
      "text/html": [
       "<div>\n",
       "<style scoped>\n",
       "    .dataframe tbody tr th:only-of-type {\n",
       "        vertical-align: middle;\n",
       "    }\n",
       "\n",
       "    .dataframe tbody tr th {\n",
       "        vertical-align: top;\n",
       "    }\n",
       "\n",
       "    .dataframe thead th {\n",
       "        text-align: right;\n",
       "    }\n",
       "</style>\n",
       "<table border=\"1\" class=\"dataframe\">\n",
       "  <thead>\n",
       "    <tr style=\"text-align: right;\">\n",
       "      <th></th>\n",
       "      <th>text</th>\n",
       "      <th>label</th>\n",
       "    </tr>\n",
       "  </thead>\n",
       "  <tbody>\n",
       "    <tr>\n",
       "      <th>0</th>\n",
       "      <td>From 102192086381143-17090200005-example.com?z...</td>\n",
       "      <td>spam</td>\n",
       "    </tr>\n",
       "    <tr>\n",
       "      <th>1</th>\n",
       "      <td>From sh@insiq.us  Fri Sep 20 11:41:16 2002\\nRe...</td>\n",
       "      <td>spam</td>\n",
       "    </tr>\n",
       "    <tr>\n",
       "      <th>2</th>\n",
       "      <td>From OWNER-NOLIST-SGODAILY*JM**NETNOTEINC*-COM...</td>\n",
       "      <td>spam</td>\n",
       "    </tr>\n",
       "    <tr>\n",
       "      <th>3</th>\n",
       "      <td>Return-Path: ler@lerami.lerctr.org\\nDelivery-D...</td>\n",
       "      <td>spam</td>\n",
       "    </tr>\n",
       "    <tr>\n",
       "      <th>4</th>\n",
       "      <td>From viagra_medication1182@martyrs.com.au  Tue...</td>\n",
       "      <td>spam</td>\n",
       "    </tr>\n",
       "  </tbody>\n",
       "</table>\n",
       "</div>"
      ],
      "text/plain": [
       "                                                text label\n",
       "0  From 102192086381143-17090200005-example.com?z...  spam\n",
       "1  From sh@insiq.us  Fri Sep 20 11:41:16 2002\\nRe...  spam\n",
       "2  From OWNER-NOLIST-SGODAILY*JM**NETNOTEINC*-COM...  spam\n",
       "3  Return-Path: ler@lerami.lerctr.org\\nDelivery-D...  spam\n",
       "4  From viagra_medication1182@martyrs.com.au  Tue...  spam"
      ]
     },
     "execution_count": 3,
     "metadata": {},
     "output_type": "execute_result"
    }
   ],
   "source": [
    "spam_df.head()"
   ]
  },
  {
   "cell_type": "code",
   "execution_count": 4,
   "id": "234fad46-1381-4c98-9ec2-d3777e18b8d0",
   "metadata": {
    "scrolled": true
   },
   "outputs": [
    {
     "name": "stdout",
     "output_type": "stream",
     "text": [
      "<class 'pandas.core.frame.DataFrame'>\n",
      "RangeIndex: 501 entries, 0 to 500\n",
      "Data columns (total 2 columns):\n",
      " #   Column  Non-Null Count  Dtype \n",
      "---  ------  --------------  ----- \n",
      " 0   text    501 non-null    object\n",
      " 1   label   501 non-null    object\n",
      "dtypes: object(2)\n",
      "memory usage: 8.0+ KB\n"
     ]
    }
   ],
   "source": [
    "spam_df.info() #consists of two columns, of which column 0 is the text, column 1 is the label. all non-null."
   ]
  },
  {
   "cell_type": "code",
   "execution_count": 5,
   "id": "116b4821-894e-4bdb-8084-e150a53cac2b",
   "metadata": {},
   "outputs": [],
   "source": [
    "full_dataset = pd.concat([spam_df, ham_df], ignore_index=True)"
   ]
  },
  {
   "cell_type": "code",
   "execution_count": 6,
   "id": "42357fc0-01fb-4b7c-820c-9a9cfb0dc522",
   "metadata": {},
   "outputs": [
    {
     "name": "stdout",
     "output_type": "stream",
     "text": [
      "<class 'pandas.core.frame.DataFrame'>\n",
      "RangeIndex: 3002 entries, 0 to 3001\n",
      "Data columns (total 2 columns):\n",
      " #   Column  Non-Null Count  Dtype \n",
      "---  ------  --------------  ----- \n",
      " 0   text    3002 non-null   object\n",
      " 1   label   3002 non-null   object\n",
      "dtypes: object(2)\n",
      "memory usage: 47.0+ KB\n"
     ]
    }
   ],
   "source": [
    "full_dataset.info()"
   ]
  },
  {
   "cell_type": "code",
   "execution_count": 7,
   "id": "55a65ed6-76f6-4105-ae55-24edac0a25ae",
   "metadata": {},
   "outputs": [],
   "source": [
    "full_dataset['text'] = full_dataset['text'].astype(str)"
   ]
  },
  {
   "cell_type": "code",
   "execution_count": 8,
   "id": "24a3d350-8a5b-46f9-b88c-96c7144c0884",
   "metadata": {},
   "outputs": [
    {
     "name": "stdout",
     "output_type": "stream",
     "text": [
      "text     object\n",
      "label    object\n",
      "dtype: object\n"
     ]
    }
   ],
   "source": [
    "print(full_dataset.dtypes)"
   ]
  },
  {
   "cell_type": "code",
   "execution_count": 25,
   "id": "4ea65743-6616-44f3-8a14-6a30180d36e2",
   "metadata": {},
   "outputs": [
    {
     "data": {
      "text/html": [
       "<div>\n",
       "<style scoped>\n",
       "    .dataframe tbody tr th:only-of-type {\n",
       "        vertical-align: middle;\n",
       "    }\n",
       "\n",
       "    .dataframe tbody tr th {\n",
       "        vertical-align: top;\n",
       "    }\n",
       "\n",
       "    .dataframe thead th {\n",
       "        text-align: right;\n",
       "    }\n",
       "</style>\n",
       "<table border=\"1\" class=\"dataframe\">\n",
       "  <thead>\n",
       "    <tr style=\"text-align: right;\">\n",
       "      <th></th>\n",
       "      <th>text</th>\n",
       "      <th>label</th>\n",
       "      <th>cleantext</th>\n",
       "      <th>stemmedcleaned</th>\n",
       "    </tr>\n",
       "  </thead>\n",
       "  <tbody>\n",
       "    <tr>\n",
       "      <th>0</th>\n",
       "      <td>From 102192086381143-17090200005-example.com?z...</td>\n",
       "      <td>spam</td>\n",
       "      <td>from NUMBER NUMBER example com zzzz bounce til...</td>\n",
       "      <td>from number number exampl com zzzz bounc tilw ...</td>\n",
       "    </tr>\n",
       "    <tr>\n",
       "      <th>1</th>\n",
       "      <td>From sh@insiq.us  Fri Sep 20 11:41:16 2002\\nRe...</td>\n",
       "      <td>spam</td>\n",
       "      <td>from sh insiq us fri sep NUMBER NUMBER NUMBER ...</td>\n",
       "      <td>from sh insiq us fri sep number number number ...</td>\n",
       "    </tr>\n",
       "    <tr>\n",
       "      <th>2</th>\n",
       "      <td>From OWNER-NOLIST-SGODAILY*JM**NETNOTEINC*-COM...</td>\n",
       "      <td>spam</td>\n",
       "      <td>from owner nolist sgodaily jm netnoteinc com s...</td>\n",
       "      <td>from owner nolist sgodaili jm netnoteinc com s...</td>\n",
       "    </tr>\n",
       "    <tr>\n",
       "      <th>3</th>\n",
       "      <td>Return-Path: ler@lerami.lerctr.org\\nDelivery-D...</td>\n",
       "      <td>spam</td>\n",
       "      <td>return path ler lerami lerctr org delivery dat...</td>\n",
       "      <td>return path ler lerami lerctr org deliveri dat...</td>\n",
       "    </tr>\n",
       "    <tr>\n",
       "      <th>4</th>\n",
       "      <td>From viagra_medication1182@martyrs.com.au  Tue...</td>\n",
       "      <td>spam</td>\n",
       "      <td>from viagra_medicationNUMBER martyrs com au tu...</td>\n",
       "      <td>from viagra_medicationnumb martyr com au tue a...</td>\n",
       "    </tr>\n",
       "  </tbody>\n",
       "</table>\n",
       "</div>"
      ],
      "text/plain": [
       "                                                text label  \\\n",
       "0  From 102192086381143-17090200005-example.com?z...  spam   \n",
       "1  From sh@insiq.us  Fri Sep 20 11:41:16 2002\\nRe...  spam   \n",
       "2  From OWNER-NOLIST-SGODAILY*JM**NETNOTEINC*-COM...  spam   \n",
       "3  Return-Path: ler@lerami.lerctr.org\\nDelivery-D...  spam   \n",
       "4  From viagra_medication1182@martyrs.com.au  Tue...  spam   \n",
       "\n",
       "                                           cleantext  \\\n",
       "0  from NUMBER NUMBER example com zzzz bounce til...   \n",
       "1  from sh insiq us fri sep NUMBER NUMBER NUMBER ...   \n",
       "2  from owner nolist sgodaily jm netnoteinc com s...   \n",
       "3  return path ler lerami lerctr org delivery dat...   \n",
       "4  from viagra_medicationNUMBER martyrs com au tu...   \n",
       "\n",
       "                                      stemmedcleaned  \n",
       "0  from number number exampl com zzzz bounc tilw ...  \n",
       "1  from sh insiq us fri sep number number number ...  \n",
       "2  from owner nolist sgodaili jm netnoteinc com s...  \n",
       "3  return path ler lerami lerctr org deliveri dat...  \n",
       "4  from viagra_medicationnumb martyr com au tue a...  "
      ]
     },
     "execution_count": 25,
     "metadata": {},
     "output_type": "execute_result"
    }
   ],
   "source": [
    "import re\n",
    "def clean_text(text):\n",
    "    text = text.lower().strip()\n",
    "    text = re.sub(r\"[-()\\\"#/@;:<>{}=~|.?,]\", \" \", text)\n",
    "    text = re.sub(r'\\d+(?:\\.\\d*)?(?:[eE][+-]?\\d+)?', 'NUMBER', text)\n",
    "    text = re.sub(r'\\W+', ' ', text, flags=re.M)\n",
    "    text = re.sub(r'https?:.*(?=\\s)', 'URL', text)\n",
    "    return text\n",
    "#clean text of punctuation, trailing space, make lowercase. we will also then want to stem the words\n",
    "full_dataset['cleantext'] = full_dataset[\"text\"].apply(clean_text)\n",
    "full_dataset.head()"
   ]
  },
  {
   "cell_type": "code",
   "execution_count": 19,
   "id": "7fe9f8af-0a0c-482a-ba36-d9c32edaca8b",
   "metadata": {
    "scrolled": true
   },
   "outputs": [
    {
     "data": {
      "text/plain": [
       "<bound method NDFrame.head of                                                    text label  \\\n",
       "0     From 102192086381143-17090200005-example.com?z...  spam   \n",
       "1     From sh@insiq.us  Fri Sep 20 11:41:16 2002\\nRe...  spam   \n",
       "2     From OWNER-NOLIST-SGODAILY*JM**NETNOTEINC*-COM...  spam   \n",
       "3     Return-Path: ler@lerami.lerctr.org\\nDelivery-D...  spam   \n",
       "4     From viagra_medication1182@martyrs.com.au  Tue...  spam   \n",
       "...                                                 ...   ...   \n",
       "2997  From rpm-list-admin@freshrpms.net  Thu Aug 29 ...   ham   \n",
       "2998  From rssfeeds@jmason.org  Mon Sep 30 13:37:50 ...   ham   \n",
       "2999  From pudge@perl.org  Tue Sep 10 11:23:13 2002\\...   ham   \n",
       "3000  From ilug-admin@linux.ie  Fri Aug 23 11:08:03 ...   ham   \n",
       "3001  From sentto-2242572-56004-1034050340-zzzz=spam...   ham   \n",
       "\n",
       "                                              cleantext  \\\n",
       "0     from NUMBER NUMBER example com zzzz bounce til...   \n",
       "1     from sh insiq us fri sep NUMBER NUMBER NUMBER ...   \n",
       "2     from owner nolist sgodaily jm netnoteinc com s...   \n",
       "3     return path ler lerami lerctr org delivery dat...   \n",
       "4     from viagra_medicationNUMBER martyrs com au tu...   \n",
       "...                                                 ...   \n",
       "2997  from rpm list admin freshrpms net thu aug NUMB...   \n",
       "2998  from rssfeeds jmason org mon sep NUMBER NUMBER...   \n",
       "2999  from pudge perl org tue sep NUMBER NUMBER NUMB...   \n",
       "3000  from ilug admin linux ie fri aug NUMBER NUMBER...   \n",
       "3001  from sentto NUMBER NUMBER NUMBER zzzz spamassa...   \n",
       "\n",
       "                                         stemmedcleaned  \n",
       "0     from NUMBER NUMBER example com zzzz bounce til...  \n",
       "1     from sh insiq us fri sep NUMBER NUMBER NUMBER ...  \n",
       "2     from owner nolist sgodaily jm netnoteinc com s...  \n",
       "3     return path ler lerami lerctr org delivery dat...  \n",
       "4     from viagra_medicationNUMBER martyrs com au tu...  \n",
       "...                                                 ...  \n",
       "2997  from rpm list admin freshrpms net thu aug NUMB...  \n",
       "2998  from rssfeeds jmason org mon sep NUMBER NUMBER...  \n",
       "2999  from pudge perl org tue sep NUMBER NUMBER NUMB...  \n",
       "3000  from ilug admin linux ie fri aug NUMBER NUMBER...  \n",
       "3001  from sentto NUMBER NUMBER NUMBER zzzz spamassa...  \n",
       "\n",
       "[3002 rows x 4 columns]>"
      ]
     },
     "execution_count": 19,
     "metadata": {},
     "output_type": "execute_result"
    }
   ],
   "source": [
    "import re\n",
    "from html import unescape\n",
    "\n",
    "def html_to_plain_text(html):\n",
    "    text = re.sub('<head.*?>.*?</head>', '', html, flags=re.M | re.S | re.I)\n",
    "    text = re.sub('<a\\s.*?>', ' HYPERLINK ', text, flags=re.M | re.S | re.I)\n",
    "    text = re.sub('<.*?>', '', text, flags=re.M | re.S)\n",
    "    text = re.sub(r'(\\s*\\n)+', '\\n', text, flags=re.M | re.S)\n",
    "    return unescape(text)\n",
    "\n",
    "full_dataset['stemmedcleaned'] = full_dataset[\"cleantext\"].apply(html_to_plain_text)\n",
    "full_dataset.head"
   ]
  },
  {
   "cell_type": "code",
   "execution_count": 26,
   "id": "21884d0c-9af2-4da4-84a6-0ad17d990d15",
   "metadata": {},
   "outputs": [
    {
     "name": "stderr",
     "output_type": "stream",
     "text": [
      "[nltk_data] Downloading package stopwords to\n",
      "[nltk_data]     /Users/kajakubickova/nltk_data...\n",
      "[nltk_data]   Package stopwords is already up-to-date!\n"
     ]
    },
    {
     "data": {
      "text/html": [
       "<div>\n",
       "<style scoped>\n",
       "    .dataframe tbody tr th:only-of-type {\n",
       "        vertical-align: middle;\n",
       "    }\n",
       "\n",
       "    .dataframe tbody tr th {\n",
       "        vertical-align: top;\n",
       "    }\n",
       "\n",
       "    .dataframe thead th {\n",
       "        text-align: right;\n",
       "    }\n",
       "</style>\n",
       "<table border=\"1\" class=\"dataframe\">\n",
       "  <thead>\n",
       "    <tr style=\"text-align: right;\">\n",
       "      <th></th>\n",
       "      <th>text</th>\n",
       "      <th>label</th>\n",
       "      <th>cleantext</th>\n",
       "      <th>stemmedcleaned</th>\n",
       "    </tr>\n",
       "  </thead>\n",
       "  <tbody>\n",
       "    <tr>\n",
       "      <th>2997</th>\n",
       "      <td>From rpm-list-admin@freshrpms.net  Thu Aug 29 ...</td>\n",
       "      <td>ham</td>\n",
       "      <td>from rpm list admin freshrpms net thu aug NUMB...</td>\n",
       "      <td>from rpm list admin freshrpm net thu aug numbe...</td>\n",
       "    </tr>\n",
       "    <tr>\n",
       "      <th>2998</th>\n",
       "      <td>From rssfeeds@jmason.org  Mon Sep 30 13:37:50 ...</td>\n",
       "      <td>ham</td>\n",
       "      <td>from rssfeeds jmason org mon sep NUMBER NUMBER...</td>\n",
       "      <td>from rssfeed jmason org mon sep number number ...</td>\n",
       "    </tr>\n",
       "    <tr>\n",
       "      <th>2999</th>\n",
       "      <td>From pudge@perl.org  Tue Sep 10 11:23:13 2002\\...</td>\n",
       "      <td>ham</td>\n",
       "      <td>from pudge perl org tue sep NUMBER NUMBER NUMB...</td>\n",
       "      <td>from pudg perl org tue sep number number numbe...</td>\n",
       "    </tr>\n",
       "    <tr>\n",
       "      <th>3000</th>\n",
       "      <td>From ilug-admin@linux.ie  Fri Aug 23 11:08:03 ...</td>\n",
       "      <td>ham</td>\n",
       "      <td>from ilug admin linux ie fri aug NUMBER NUMBER...</td>\n",
       "      <td>from ilug admin linux ie fri aug number number...</td>\n",
       "    </tr>\n",
       "    <tr>\n",
       "      <th>3001</th>\n",
       "      <td>From sentto-2242572-56004-1034050340-zzzz=spam...</td>\n",
       "      <td>ham</td>\n",
       "      <td>from sentto NUMBER NUMBER NUMBER zzzz spamassa...</td>\n",
       "      <td>from sentto number number number zzzz spamassa...</td>\n",
       "    </tr>\n",
       "  </tbody>\n",
       "</table>\n",
       "</div>"
      ],
      "text/plain": [
       "                                                   text label  \\\n",
       "2997  From rpm-list-admin@freshrpms.net  Thu Aug 29 ...   ham   \n",
       "2998  From rssfeeds@jmason.org  Mon Sep 30 13:37:50 ...   ham   \n",
       "2999  From pudge@perl.org  Tue Sep 10 11:23:13 2002\\...   ham   \n",
       "3000  From ilug-admin@linux.ie  Fri Aug 23 11:08:03 ...   ham   \n",
       "3001  From sentto-2242572-56004-1034050340-zzzz=spam...   ham   \n",
       "\n",
       "                                              cleantext  \\\n",
       "2997  from rpm list admin freshrpms net thu aug NUMB...   \n",
       "2998  from rssfeeds jmason org mon sep NUMBER NUMBER...   \n",
       "2999  from pudge perl org tue sep NUMBER NUMBER NUMB...   \n",
       "3000  from ilug admin linux ie fri aug NUMBER NUMBER...   \n",
       "3001  from sentto NUMBER NUMBER NUMBER zzzz spamassa...   \n",
       "\n",
       "                                         stemmedcleaned  \n",
       "2997  from rpm list admin freshrpm net thu aug numbe...  \n",
       "2998  from rssfeed jmason org mon sep number number ...  \n",
       "2999  from pudg perl org tue sep number number numbe...  \n",
       "3000  from ilug admin linux ie fri aug number number...  \n",
       "3001  from sentto number number number zzzz spamassa...  "
      ]
     },
     "execution_count": 26,
     "metadata": {},
     "output_type": "execute_result"
    }
   ],
   "source": [
    "from nltk.stem import PorterStemmer\n",
    "import nltk\n",
    "nltk.download('stopwords')\n",
    "from nltk.corpus import stopwords\n",
    "stop_words = set(stopwords.words('english'))\n",
    "def stem_text(text):\n",
    "    porter_stemmer = PorterStemmer()\n",
    "    text = text.split()\n",
    "    text = [porter_stemmer.stem(word) for word in text]\n",
    "    text = \" \".join(text)\n",
    "    return text\n",
    "full_dataset['stemmedcleaned'] = full_dataset[\"cleantext\"].apply(stem_text)\n",
    "full_dataset.head()\n",
    "full_dataset.tail()"
   ]
  },
  {
   "cell_type": "code",
   "execution_count": 20,
   "id": "686247ad-fcba-42f2-a974-af08834a1df1",
   "metadata": {},
   "outputs": [],
   "source": [
    "from sklearn.model_selection import train_test_split\n",
    "x_train,x_test,y_train,y_test = train_test_split(full_dataset[\"stemmedcleaned\"],full_dataset[\"label\"],test_size=0.2)"
   ]
  },
  {
   "cell_type": "code",
   "execution_count": 54,
   "id": "5c8e348b-664a-4499-819f-f425a095932f",
   "metadata": {},
   "outputs": [
    {
     "name": "stderr",
     "output_type": "stream",
     "text": [
      "[nltk_data] Downloading package punkt to\n",
      "[nltk_data]     /Users/kajakubickova/nltk_data...\n",
      "[nltk_data]   Package punkt is already up-to-date!\n"
     ]
    }
   ],
   "source": [
    "#Write a data preparation pipeline to convert each email into a feature vector.\n",
    "#Your preparation pipeline should transform an email into a (sparse) vector\n",
    "#indicating the presence or absence of each possible word. For example, if all\n",
    "#emails only ever contain four words, “Hello,” “how,” “are,” “you,” then the email\n",
    "#“Hello you Hello Hello you” would be converted into a vector [1, 0, 0, 1]\n",
    "#(meaning [“Hello” is present, “how” is absent, “are” is absent, “you” is\n",
    "#present]), or [3, 0, 0, 2] if you prefer to count the number of occurrences of\n",
    "#each word.\n",
    "#https://towardsdatascience.com/how-to-turn-text-into-features-478b57632e99\n",
    "#perchance then use bag of words encoding?\n",
    "\n",
    "#probably use python counter method first to turn a sequence of words into a dict of words and frequencies\n",
    "#then initialize BoW or IDF class\n",
    "#fit the class\n",
    "word2count = {} \n",
    "import nltk\n",
    "nltk.download('punkt')\n",
    "for data in full_dataset[\"stemmedcleaned\"]: \n",
    "    words = nltk.word_tokenize(data) \n",
    "    for word in words: \n",
    "        if word not in word2count.keys(): \n",
    "            word2count[word] = 1\n",
    "        else: \n",
    "            word2count[word] += 1\n",
    "\n",
    "import heapq \n",
    "freq_words = heapq.nlargest(200, word2count, key=word2count.get)"
   ]
  },
  {
   "cell_type": "code",
   "execution_count": 55,
   "id": "7de359af-4bf4-4401-a752-f58accacaa02",
   "metadata": {},
   "outputs": [],
   "source": [
    "\n",
    "import numpy as np\n",
    "class ArrayMaker:\n",
    "    def __init__(self, freq_words):\n",
    "        self.freq_words = freq_words\n",
    "    def fit_transform(self, dataset):\n",
    "        X = []  # Initialize X before the loop\n",
    "        for data in dataset:\n",
    "            vector = []\n",
    "            for word in freq_words: \n",
    "                if word in nltk.word_tokenize(data): \n",
    "                    vector.append(1) \n",
    "                else: \n",
    "                    vector.append(0) \n",
    "            X.append(vector) \n",
    "        X = np.asarray(X)\n",
    "        return X\n",
    "\n",
    "array_maker = ArrayMaker(freq_words)\n",
    "\n",
    "X_transformed = array_maker.fit_transform(x_train)"
   ]
  },
  {
   "cell_type": "code",
   "execution_count": 56,
   "id": "d37040f3-6507-4729-98ea-05d154512496",
   "metadata": {},
   "outputs": [
    {
     "name": "stdout",
     "output_type": "stream",
     "text": [
      "[CV] END ................................ score: (test=0.994) total time=   0.0s\n",
      "[CV] END ................................ score: (test=0.995) total time=   0.0s\n",
      "[CV] END ................................ score: (test=0.999) total time=   0.0s\n"
     ]
    },
    {
     "data": {
      "text/plain": [
       "0.9958359342488556"
      ]
     },
     "execution_count": 56,
     "metadata": {},
     "output_type": "execute_result"
    }
   ],
   "source": [
    "from sklearn.model_selection import cross_val_score\n",
    "\n",
    "log_clf = LogisticRegression(solver=\"lbfgs\", max_iter=1000, random_state=42)\n",
    "score = cross_val_score(log_clf, X_transformed, y_train, cv=3, verbose=3)\n",
    "score.mean()\n",
    "#what whattttt 0.995 score babey??\n",
    "#this has gotta be wrong lol but we roll ig"
   ]
  },
  {
   "cell_type": "code",
   "execution_count": 57,
   "id": "a3534c16-032f-4626-aaf3-93dcfe1c4404",
   "metadata": {},
   "outputs": [
    {
     "name": "stdout",
     "output_type": "stream",
     "text": [
      "Shape of X_transformed: (2401, 200)\n",
      "Shape of y_train: (2401,)\n"
     ]
    }
   ],
   "source": [
    "print(\"Shape of X_transformed:\", X_transformed.shape)\n",
    "print(\"Shape of y_train:\", y_train.shape)"
   ]
  },
  {
   "cell_type": "code",
   "execution_count": 58,
   "id": "5d0bd0df-5f88-4041-99a6-08cb427c8fd1",
   "metadata": {},
   "outputs": [],
   "source": [
    "#next time remember to make the preprocessing steps into a pipeline so it's much easier to transform the X_test and i don't have to go through it again lolll\n",
    "X_test_transformed = array_maker.fit_transform(x_test)"
   ]
  },
  {
   "cell_type": "code",
   "execution_count": 63,
   "id": "96d0d673-a4db-45a9-8d1c-d04a0427ed3d",
   "metadata": {},
   "outputs": [
    {
     "name": "stdout",
     "output_type": "stream",
     "text": [
      "Precision: 100.00%\n",
      "Recall: 100.00%\n"
     ]
    }
   ],
   "source": [
    "from sklearn.metrics import precision_score, recall_score\n",
    "\n",
    "log_clf.fit(X_transformed, y_train)\n",
    "\n",
    "y_pred = log_clf.predict(X_test_transformed)\n",
    "pos_label = 'spam'\n",
    "\n",
    "print(\"Precision: {:.2f}%\".format(100 * precision_score(y_test, y_pred, pos_label=\"spam\")))\n",
    "print(\"Recall: {:.2f}%\".format(100 * recall_score(y_test, y_pred, pos_label=\"spam\")))"
   ]
  },
  {
   "cell_type": "code",
   "execution_count": null,
   "id": "e7ebdcf9-cfe7-4946-b8f3-b919c41fb9f6",
   "metadata": {},
   "outputs": [],
   "source": []
  }
 ],
 "metadata": {
  "kernelspec": {
   "display_name": "Python 3 (ipykernel)",
   "language": "python",
   "name": "python3"
  },
  "language_info": {
   "codemirror_mode": {
    "name": "ipython",
    "version": 3
   },
   "file_extension": ".py",
   "mimetype": "text/x-python",
   "name": "python",
   "nbconvert_exporter": "python",
   "pygments_lexer": "ipython3",
   "version": "3.11.4"
  }
 },
 "nbformat": 4,
 "nbformat_minor": 5
}
